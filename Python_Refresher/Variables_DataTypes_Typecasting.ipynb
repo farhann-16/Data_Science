{
 "cells": [
  {
   "cell_type": "markdown",
   "id": "5c692853-32c7-4372-af66-61fb0f08452b",
   "metadata": {},
   "source": [
    "## Variables - Container for storing data"
   ]
  },
  {
   "cell_type": "code",
   "execution_count": 1,
   "id": "9b35bf30-62a7-4cc7-b006-2c851d826e63",
   "metadata": {},
   "outputs": [
    {
     "data": {
      "text/plain": [
       "'Farhan'"
      ]
     },
     "execution_count": 1,
     "metadata": {},
     "output_type": "execute_result"
    }
   ],
   "source": [
    "name = \"Farhan\"\n",
    "name"
   ]
  },
  {
   "cell_type": "code",
   "execution_count": 2,
   "id": "d8687f3b-ca95-4785-9836-485c441d2dbc",
   "metadata": {},
   "outputs": [
    {
     "data": {
      "text/plain": [
       "5"
      ]
     },
     "execution_count": 2,
     "metadata": {},
     "output_type": "execute_result"
    }
   ],
   "source": [
    "a = 5\n",
    "a"
   ]
  },
  {
   "cell_type": "code",
   "execution_count": 3,
   "id": "a66e5cfa-9570-40d3-b878-e1d849d06ecd",
   "metadata": {},
   "outputs": [
    {
     "data": {
      "text/plain": [
       "15"
      ]
     },
     "execution_count": 3,
     "metadata": {},
     "output_type": "execute_result"
    }
   ],
   "source": [
    "b = 10\n",
    "a + b"
   ]
  },
  {
   "cell_type": "markdown",
   "id": "62ef3b89-d787-423c-8e2f-aecf4adccd11",
   "metadata": {},
   "source": [
    "## Data Types - Describe what type of data "
   ]
  },
  {
   "cell_type": "markdown",
   "id": "01acb1b9-9bd8-444d-96e1-8ddbf9a7ae08",
   "metadata": {},
   "source": [
    "- int - 1, 2, 5\n",
    "- float - 1.5, 2.1\n",
    "- str - \"Farhan\", \"Zeeshan\"\n",
    "- bool - True, False\n",
    "- List - [1, 3, 'Farhan']\n",
    "- Tuple - (1, 3, 5)\n",
    "- Dict - {\"a\": 1}"
   ]
  },
  {
   "cell_type": "code",
   "execution_count": 4,
   "id": "acf2f1c0-1a59-4083-8989-03c33b66dec0",
   "metadata": {},
   "outputs": [
    {
     "data": {
      "text/plain": [
       "int"
      ]
     },
     "execution_count": 4,
     "metadata": {},
     "output_type": "execute_result"
    }
   ],
   "source": [
    "type(a)"
   ]
  },
  {
   "cell_type": "code",
   "execution_count": 5,
   "id": "d3335d1f-466e-48e7-b245-56a87daef704",
   "metadata": {},
   "outputs": [
    {
     "data": {
      "text/plain": [
       "str"
      ]
     },
     "execution_count": 5,
     "metadata": {},
     "output_type": "execute_result"
    }
   ],
   "source": [
    "type(name)"
   ]
  },
  {
   "cell_type": "markdown",
   "id": "999abb20-df5d-4d91-b5bf-c1a5ab7022f2",
   "metadata": {},
   "source": [
    "## TypeCasting - To change data type"
   ]
  },
  {
   "cell_type": "code",
   "execution_count": 6,
   "id": "bf47e249-c297-4853-b4aa-a9ad967a86cc",
   "metadata": {},
   "outputs": [
    {
     "data": {
      "text/plain": [
       "'123456'"
      ]
     },
     "execution_count": 6,
     "metadata": {},
     "output_type": "execute_result"
    }
   ],
   "source": [
    "x = \"123\"\n",
    "y = \"456\"\n",
    "x+y"
   ]
  },
  {
   "cell_type": "code",
   "execution_count": 9,
   "id": "d2d503ad-2c2a-471a-927b-f3072a68d55c",
   "metadata": {},
   "outputs": [
    {
     "data": {
      "text/plain": [
       "579"
      ]
     },
     "execution_count": 9,
     "metadata": {},
     "output_type": "execute_result"
    }
   ],
   "source": [
    "int(x) + int(y)     #Conver string to integer"
   ]
  },
  {
   "cell_type": "code",
   "execution_count": null,
   "id": "cc2a34ff-03c3-41b9-a93d-61c718f63cd9",
   "metadata": {},
   "outputs": [],
   "source": []
  }
 ],
 "metadata": {
  "kernelspec": {
   "display_name": "Python 3 (ipykernel)",
   "language": "python",
   "name": "python3"
  },
  "language_info": {
   "codemirror_mode": {
    "name": "ipython",
    "version": 3
   },
   "file_extension": ".py",
   "mimetype": "text/x-python",
   "name": "python",
   "nbconvert_exporter": "python",
   "pygments_lexer": "ipython3",
   "version": "3.13.5"
  }
 },
 "nbformat": 4,
 "nbformat_minor": 5
}
