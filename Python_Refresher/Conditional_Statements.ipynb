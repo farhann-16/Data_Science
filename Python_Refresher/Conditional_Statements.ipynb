{
 "cells": [
  {
   "cell_type": "markdown",
   "id": "6bdb3cb8-2d04-4d0f-849b-bd04cd3696b6",
   "metadata": {},
   "source": [
    "#  If else statements"
   ]
  },
  {
   "cell_type": "markdown",
   "id": "25b11ec5-27e2-49b9-b9eb-d3ebcb8400fb",
   "metadata": {},
   "source": [
    "# Conditional Statements in Python\n",
    "\n",
    "In Python, conditional statements (`if`, `elif`, and `else`) are used to control the flow of a program based on conditions. These are essential in data science for handling different scenarios in data processing, decision-making, and logic execution.\n",
    "\n",
    "## Basic `if` Statement\n",
    "The `if` statement allows you to execute a block of code only if a condition is `True`.\n",
    "\n",
    "```python\n",
    "x = 10\n",
    "if x > 5:\n",
    "    print(\"x is greater than 5\")\n",
    "```\n",
    "\n",
    "### Explanation:\n",
    "- The condition `x > 5` is checked.\n",
    "- If `True`, the indented block under `if` runs.\n",
    "- If `False`, nothing happens.\n",
    "\n",
    "## `if-else` Statement\n",
    "The `else` block executes when the `if` condition is `False`.\n",
    "\n",
    "```python\n",
    "x = 3\n",
    "if x > 5:\n",
    "    print(\"x is greater than 5\")\n",
    "else:\n",
    "    print(\"x is not greater than 5\")\n",
    "```\n",
    "\n",
    "### Explanation:\n",
    "- If `x > 5`, it prints the first message.\n",
    "- Otherwise, the `else` block executes.\n",
    "\n",
    "## `if-elif-else` Statement\n",
    "When multiple conditions need to be checked sequentially, use `elif` (short for \"else if\").\n",
    "\n",
    "```python\n",
    "x = 5\n",
    "if x > 10:\n",
    "    print(\"x is greater than 10\")\n",
    "elif x > 5:\n",
    "    print(\"x is greater than 5 but not more than 10\")\n",
    "elif x == 5:\n",
    "    print(\"x is exactly 5\")\n",
    "else:\n",
    "    print(\"x is less than 5\")\n",
    "```\n",
    "\n",
    "### Explanation:\n",
    "- The conditions are checked from top to bottom.\n",
    "- The first `True` condition executes, and the rest are skipped.\n",
    "\n",
    "## Using `if-else` in Data Science\n",
    "Conditional statements are widely used in data science for filtering, cleaning, and decision-making.\n",
    "\n",
    "### Example: Categorizing Data\n",
    "```python\n",
    "age = 25\n",
    "if age < 18:\n",
    "    category = \"Minor\"\n",
    "elif age < 65:\n",
    "    category = \"Adult\"\n",
    "else:\n",
    "    category = \"Senior Citizen\"\n",
    "\n",
    "print(\"Category:\", category)\n",
    "```\n",
    "\n",
    "### Example: Applying Conditions on Pandas DataFrame\n",
    "```python\n",
    "import pandas as pd\n",
    "\n",
    "data = {'Name': ['Alice', 'Bob', 'Charlie'], 'Score': [85, 40, 75]}\n",
    "df = pd.DataFrame(data)\n",
    "\n",
    "df['Result'] = df['Score'].apply(lambda x: 'Pass' if x >= 50 else 'Fail')\n",
    "print(df)\n",
    "```\n",
    "\n",
    "## Summary\n",
    "- `if`: Executes if the condition is `True`.\n",
    "- `if-else`: Adds an alternative block if the condition is `False`.\n",
    "- `if-elif-else`: Handles multiple conditions.\n",
    "- Useful in data science for logic-based decision-making.\n",
    " \n",
    "\n"
   ]
  },
  {
   "cell_type": "code",
   "execution_count": 5,
   "id": "b88dfddc-974d-4f53-bb21-d03af58cc893",
   "metadata": {},
   "outputs": [
    {
     "name": "stdout",
     "output_type": "stream",
     "text": [
      "False\n"
     ]
    }
   ],
   "source": [
    "a = 4\n",
    "if(a>53):\n",
    "    print(\"True\")\n",
    "else:\n",
    "    print(\"False\")\n",
    "    "
   ]
  },
  {
   "cell_type": "markdown",
   "id": "282d1c9a-6714-44db-9bd1-e0d70a60166a",
   "metadata": {},
   "source": [
    "### if-elif-else Statement"
   ]
  },
  {
   "cell_type": "code",
   "execution_count": 7,
   "id": "008ee18d-6fe2-4295-832d-64076dcc4045",
   "metadata": {},
   "outputs": [
    {
     "name": "stdout",
     "output_type": "stream",
     "text": [
      "x is exactly 5\n"
     ]
    }
   ],
   "source": [
    "x = 5                                                                #Its a if else ledder also\n",
    "if x > 10:                                                           #Its like or condition we gave multi using or and its execute in line\n",
    "    print(\"x is greater than 10\")\n",
    "elif x > 5:                                                          #If is executed then stop if dont move to next \n",
    "    print(\"x is greater than 5 but not more than 10\")\n",
    "elif x == 5:\n",
    "    print(\"x is exactly 5\")\n",
    "else:                                                                #If no one will executed then else is automatically executed\n",
    "    print(\"x is less than 5\")                                        #In this example our condition is matched at 2nd elif so it is printed"
   ]
  },
  {
   "cell_type": "code",
   "execution_count": 8,
   "id": "1df8f2c0-6341-4613-a2d6-2fff08653998",
   "metadata": {},
   "outputs": [
    {
     "name": "stdout",
     "output_type": "stream",
     "text": [
      "x is exactly 5\n"
     ]
    }
   ],
   "source": [
    "x = 5\n",
    "if x > 10:                                                           #False\n",
    "    print(\"x is greater than 10\")\n",
    "elif x > 5:                                                          #False\n",
    "    print(\"x is greater than 5 but not more than 10\")\n",
    "elif x == 5:                                                         #True so its stopped from here\n",
    "    print(\"x is exactly 5\")\n",
    "else:\n",
    "    print(\"x is less than 5\")"
   ]
  },
  {
   "cell_type": "code",
   "execution_count": null,
   "id": "865f5223-8041-4903-9cd2-08f3bc476ef0",
   "metadata": {},
   "outputs": [],
   "source": []
  }
 ],
 "metadata": {
  "kernelspec": {
   "display_name": "Python 3 (ipykernel)",
   "language": "python",
   "name": "python3"
  },
  "language_info": {
   "codemirror_mode": {
    "name": "ipython",
    "version": 3
   },
   "file_extension": ".py",
   "mimetype": "text/x-python",
   "name": "python",
   "nbconvert_exporter": "python",
   "pygments_lexer": "ipython3",
   "version": "3.13.5"
  }
 },
 "nbformat": 4,
 "nbformat_minor": 5
}
