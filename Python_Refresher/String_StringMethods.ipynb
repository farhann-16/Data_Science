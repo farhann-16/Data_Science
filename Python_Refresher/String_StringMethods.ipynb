{
 "cells": [
  {
   "cell_type": "markdown",
   "id": "d5ad22a4-bc4d-4650-941e-9705c81f190a",
   "metadata": {},
   "source": [
    "## String - Sequence of characters closed with ' or \""
   ]
  },
  {
   "cell_type": "code",
   "execution_count": 1,
   "id": "eb6654e2-4848-436d-9684-8f9730f46d3e",
   "metadata": {},
   "outputs": [
    {
     "data": {
      "text/plain": [
       "'Farhan'"
      ]
     },
     "execution_count": 1,
     "metadata": {},
     "output_type": "execute_result"
    }
   ],
   "source": [
    "name = \"Farhan\"                #Basic Example\n",
    "name"
   ]
  },
  {
   "cell_type": "markdown",
   "id": "7c44774e-2cc8-4f94-bd38-271434239ba6",
   "metadata": {},
   "source": [
    "- For multiline string use ''' or \"\"\" "
   ]
  },
  {
   "cell_type": "markdown",
   "id": "9a9c11ab-625a-4087-9a95-1765119d518d",
   "metadata": {},
   "source": [
    "## String Methods"
   ]
  },
  {
   "cell_type": "code",
   "execution_count": 3,
   "id": "009823cb-efe5-4654-86cb-c0c7007f7e7a",
   "metadata": {},
   "outputs": [
    {
     "data": {
      "text/plain": [
       "'FARHAN'"
      ]
     },
     "execution_count": 3,
     "metadata": {},
     "output_type": "execute_result"
    }
   ],
   "source": [
    "name.upper()                   #name. - click tab for all methods"
   ]
  },
  {
   "cell_type": "code",
   "execution_count": 6,
   "id": "5722e8ff-1540-4c7b-9d04-9355974d5c25",
   "metadata": {},
   "outputs": [
    {
     "data": {
      "text/plain": [
       "False"
      ]
     },
     "execution_count": 6,
     "metadata": {},
     "output_type": "execute_result"
    }
   ],
   "source": [
    "name.endswith('a')            #We have ti use () in python for function"
   ]
  },
  {
   "cell_type": "code",
   "execution_count": 7,
   "id": "9ddc42f8-3d3c-46f4-be75-d6a759597428",
   "metadata": {},
   "outputs": [
    {
     "data": {
      "text/plain": [
       "2"
      ]
     },
     "execution_count": 7,
     "metadata": {},
     "output_type": "execute_result"
    }
   ],
   "source": [
    "name.count('a')"
   ]
  },
  {
   "cell_type": "code",
   "execution_count": 9,
   "id": "32646079-2af0-4be0-b02f-2d5d73b3d0a6",
   "metadata": {},
   "outputs": [
    {
     "data": {
      "text/plain": [
       "6"
      ]
     },
     "execution_count": 9,
     "metadata": {},
     "output_type": "execute_result"
    }
   ],
   "source": [
    "len(name)"
   ]
  },
  {
   "cell_type": "code",
   "execution_count": 13,
   "id": "74c7a72d-a931-4473-984f-368efb1f92ee",
   "metadata": {},
   "outputs": [
    {
     "data": {
      "text/plain": [
       "['Farhan']"
      ]
     },
     "execution_count": 13,
     "metadata": {},
     "output_type": "execute_result"
    }
   ],
   "source": [
    "name.split(\",\")"
   ]
  },
  {
   "cell_type": "markdown",
   "id": "f693df0a-36d2-4ed4-8907-b29b483b48e9",
   "metadata": {},
   "source": [
    "## String Indexing and Slicing\n",
    "-Indexing starts at 0."
   ]
  },
  {
   "cell_type": "code",
   "execution_count": 14,
   "id": "1967d5ac-7bb2-4172-bc03-c4f6a773cdf3",
   "metadata": {},
   "outputs": [
    {
     "data": {
      "text/plain": [
       "'F'"
      ]
     },
     "execution_count": 14,
     "metadata": {},
     "output_type": "execute_result"
    }
   ],
   "source": [
    "name[0]"
   ]
  },
  {
   "cell_type": "code",
   "execution_count": 15,
   "id": "70e31dd9-e5d6-43d0-a582-62cdced55691",
   "metadata": {},
   "outputs": [
    {
     "data": {
      "text/plain": [
       "'a'"
      ]
     },
     "execution_count": 15,
     "metadata": {},
     "output_type": "execute_result"
    }
   ],
   "source": [
    "name[1]"
   ]
  },
  {
   "cell_type": "code",
   "execution_count": 17,
   "id": "bee9ec54-0bfb-438d-92c3-f8953bbb8a8f",
   "metadata": {},
   "outputs": [
    {
     "data": {
      "text/plain": [
       "'n'"
      ]
     },
     "execution_count": 17,
     "metadata": {},
     "output_type": "execute_result"
    }
   ],
   "source": [
    "name[-1]              # - Strats from last character"
   ]
  },
  {
   "cell_type": "code",
   "execution_count": 19,
   "id": "21adf718-69b3-4a96-a557-33d402cdb697",
   "metadata": {},
   "outputs": [
    {
     "data": {
      "text/plain": [
       "'Fa'"
      ]
     },
     "execution_count": 19,
     "metadata": {},
     "output_type": "execute_result"
    }
   ],
   "source": [
    "name[0:2]            #St from 0 and goes 2 character"
   ]
  },
  {
   "cell_type": "code",
   "execution_count": 23,
   "id": "b7ae9490-06fa-4663-b02e-b36909fe9554",
   "metadata": {},
   "outputs": [
    {
     "data": {
      "text/plain": [
       "'Far'"
      ]
     },
     "execution_count": 23,
     "metadata": {},
     "output_type": "execute_result"
    }
   ],
   "source": [
    "name[:3]            #Take all previous charcter from 3rd"
   ]
  },
  {
   "cell_type": "code",
   "execution_count": 24,
   "id": "8b861a6c-61fa-4d52-8b73-9dbe2be98ce1",
   "metadata": {},
   "outputs": [
    {
     "data": {
      "text/plain": [
       "'han'"
      ]
     },
     "execution_count": 24,
     "metadata": {},
     "output_type": "execute_result"
    }
   ],
   "source": [
    "name[3:]           #Take all characters from 3rd to last"
   ]
  },
  {
   "cell_type": "markdown",
   "id": "00dcc4da-e8b1-4b82-9612-30cb22c1edd1",
   "metadata": {},
   "source": [
    "### It can not be changed after creation "
   ]
  },
  {
   "cell_type": "code",
   "execution_count": 25,
   "id": "0befa8b6-4f62-4dde-a85c-0d0e233eafaa",
   "metadata": {},
   "outputs": [
    {
     "data": {
      "text/plain": [
       "0"
      ]
     },
     "execution_count": 25,
     "metadata": {},
     "output_type": "execute_result"
    }
   ],
   "source": [
    "name.find('F')"
   ]
  },
  {
   "cell_type": "code",
   "execution_count": 26,
   "id": "371cb356-3f8d-47c0-9824-69e8f94cd343",
   "metadata": {},
   "outputs": [
    {
     "data": {
      "text/plain": [
       "['Farhan', 'Diwan']"
      ]
     },
     "execution_count": 26,
     "metadata": {},
     "output_type": "execute_result"
    }
   ],
   "source": [
    "namee = \"Farhan Diwan\"\n",
    "namee.split()"
   ]
  },
  {
   "cell_type": "code",
   "execution_count": 28,
   "id": "61bb013f-1171-4003-aa5d-2a2dc625262c",
   "metadata": {},
   "outputs": [
    {
     "data": {
      "text/plain": [
       "'n-a-m-e-e'"
      ]
     },
     "execution_count": 28,
     "metadata": {},
     "output_type": "execute_result"
    }
   ],
   "source": [
    "\"-\".join(\"namee\")"
   ]
  },
  {
   "cell_type": "markdown",
   "id": "f85d3dce-d928-4716-ac31-92b80f7269f6",
   "metadata": {},
   "source": [
    "## String Formatting (f-strings)"
   ]
  },
  {
   "cell_type": "code",
   "execution_count": 29,
   "id": "d570fe83-c0a9-4f5f-88ec-d8d2a1383bbb",
   "metadata": {},
   "outputs": [],
   "source": [
    "names = \"Zeeshan\"\n",
    "age = 15"
   ]
  },
  {
   "cell_type": "code",
   "execution_count": 33,
   "id": "799a1580-90d9-4d7c-907e-0153cec0b356",
   "metadata": {},
   "outputs": [
    {
     "data": {
      "text/plain": [
       "'Hello, my name is Farhan and my age is 15'"
      ]
     },
     "execution_count": 33,
     "metadata": {},
     "output_type": "execute_result"
    }
   ],
   "source": [
    "f\"Hello, my name is {name} and my age is {age}\"       #Put f first then \"closed\""
   ]
  },
  {
   "cell_type": "code",
   "execution_count": 34,
   "id": "618fa5b5-232d-4db3-9eef-558f62e135ed",
   "metadata": {},
   "outputs": [
    {
     "data": {
      "text/plain": [
       "'Hello, my name is Zeeshan and my age is 15'"
      ]
     },
     "execution_count": 34,
     "metadata": {},
     "output_type": "execute_result"
    }
   ],
   "source": [
    "f\"Hello, my name is {names} and my age is {age}\"      #We can use pit values "
   ]
  },
  {
   "cell_type": "markdown",
   "id": "7996e51e-2620-4dec-acf6-aa8b9c37eca1",
   "metadata": {},
   "source": [
    "## Taking Input"
   ]
  },
  {
   "cell_type": "code",
   "execution_count": 36,
   "id": "20471120-7c55-4788-b04d-101b755411f6",
   "metadata": {},
   "outputs": [
    {
     "name": "stdin",
     "output_type": "stream",
     "text": [
      "Enter Your Name: Farhan Diwan\n"
     ]
    }
   ],
   "source": [
    "a = input(\"Enter Your Name:\")"
   ]
  },
  {
   "cell_type": "code",
   "execution_count": 38,
   "id": "3573cadf-97fe-4a2b-a062-9fab4ad93f3c",
   "metadata": {},
   "outputs": [
    {
     "name": "stdin",
     "output_type": "stream",
     "text": [
      "Enter Your Age: 122\n"
     ]
    }
   ],
   "source": [
    "b = int(input(\"Enter Your Age:\"))"
   ]
  },
  {
   "cell_type": "code",
   "execution_count": 39,
   "id": "f36bbd14-0c82-4f53-ad31-bb52a37c5d10",
   "metadata": {},
   "outputs": [
    {
     "data": {
      "text/plain": [
       "'Hello, my name is Farhan Diwan and my age is 122'"
      ]
     },
     "execution_count": 39,
     "metadata": {},
     "output_type": "execute_result"
    }
   ],
   "source": [
    "f\"Hello, my name is {a} and my age is {b}\""
   ]
  },
  {
   "cell_type": "code",
   "execution_count": null,
   "id": "8e495f83-7633-4e4f-a7e4-287ea52bbb57",
   "metadata": {},
   "outputs": [],
   "source": []
  }
 ],
 "metadata": {
  "kernelspec": {
   "display_name": "Python 3 (ipykernel)",
   "language": "python",
   "name": "python3"
  },
  "language_info": {
   "codemirror_mode": {
    "name": "ipython",
    "version": 3
   },
   "file_extension": ".py",
   "mimetype": "text/x-python",
   "name": "python",
   "nbconvert_exporter": "python",
   "pygments_lexer": "ipython3",
   "version": "3.13.5"
  }
 },
 "nbformat": 4,
 "nbformat_minor": 5
}
