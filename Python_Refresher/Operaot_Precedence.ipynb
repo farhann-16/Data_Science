{
 "cells": [
  {
   "cell_type": "markdown",
   "id": "0627b386-7225-437d-b85c-9fb7de59fc2d",
   "metadata": {},
   "source": [
    "# Operator Precedence"
   ]
  },
  {
   "cell_type": "markdown",
   "id": "a60deac3-75e5-4764-887e-142623009201",
   "metadata": {},
   "source": [
    "# 🧮 Python Operator Precedence (PEMDAS)\n",
    "\n",
    "Python follows **PEMDAS** — which stands for:\n",
    "\n",
    "**P**arentheses, **E**xponents, **M**ultiplication / **D**ivision, **A**ddition / **S**ubtraction\n",
    "\n",
    "---\n",
    "\n",
    "## 🔢 Order of Operations in Python\n",
    "\n",
    "1. **Parentheses `()`** – Highest precedence.  \n",
    "   Operations inside parentheses are evaluated first.\n",
    "\n",
    "2. **Exponents `**`** – Power calculations  \n",
    "   Example:  \n",
    "   ```python\n",
    "   2 ** 3  # → 8\n"
   ]
  },
  {
   "cell_type": "code",
   "execution_count": 1,
   "id": "7f21f1e2-5b4d-4d31-9ec8-da917c98a58b",
   "metadata": {},
   "outputs": [
    {
     "data": {
      "text/plain": [
       "-20.956521739130434"
      ]
     },
     "execution_count": 1,
     "metadata": {},
     "output_type": "execute_result"
    }
   ],
   "source": [
    "54*3/23+4-2**5"
   ]
  },
  {
   "cell_type": "code",
   "execution_count": null,
   "id": "1e577696-4267-465c-8168-1d609f01abec",
   "metadata": {},
   "outputs": [],
   "source": []
  }
 ],
 "metadata": {
  "kernelspec": {
   "display_name": "Python 3 (ipykernel)",
   "language": "python",
   "name": "python3"
  },
  "language_info": {
   "codemirror_mode": {
    "name": "ipython",
    "version": 3
   },
   "file_extension": ".py",
   "mimetype": "text/x-python",
   "name": "python",
   "nbconvert_exporter": "python",
   "pygments_lexer": "ipython3",
   "version": "3.13.5"
  }
 },
 "nbformat": 4,
 "nbformat_minor": 5
}
