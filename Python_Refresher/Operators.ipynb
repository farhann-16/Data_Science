{
 "cells": [
  {
   "cell_type": "markdown",
   "id": "0e6d9082-546d-4581-b28c-e3890554fc3c",
   "metadata": {},
   "source": [
    "#  Operators in Python"
   ]
  },
  {
   "cell_type": "markdown",
   "id": "16f5cf61-f2e0-4822-9d82-e84e99b29948",
   "metadata": {},
   "source": [
    "### 1 Airthemeatic operators"
   ]
  },
  {
   "cell_type": "code",
   "execution_count": 3,
   "id": "92fc3027-1c54-4ef0-ae67-d031c9a9e42e",
   "metadata": {},
   "outputs": [],
   "source": [
    "a = 5                #Variable\n",
    "b = 10"
   ]
  },
  {
   "cell_type": "code",
   "execution_count": 4,
   "id": "4198573c-16fa-4b8f-899d-627e42c8d95b",
   "metadata": {},
   "outputs": [
    {
     "data": {
      "text/plain": [
       "0.5"
      ]
     },
     "execution_count": 4,
     "metadata": {},
     "output_type": "execute_result"
    }
   ],
   "source": [
    "a + b              \n",
    "a - b\n",
    "a * b\n",
    "a/b            #When we use / we alway got result in float"
   ]
  },
  {
   "cell_type": "code",
   "execution_count": 7,
   "id": "8e1fb28a-ba48-4109-8c8a-bc316f97c487",
   "metadata": {},
   "outputs": [
    {
     "data": {
      "text/plain": [
       "2"
      ]
     },
     "execution_count": 7,
     "metadata": {},
     "output_type": "execute_result"
    }
   ],
   "source": [
    "b//a          #To remove decimal use '//'"
   ]
  },
  {
   "cell_type": "code",
   "execution_count": 8,
   "id": "98713c12-3bdc-480e-bc4e-ee610eb0a594",
   "metadata": {},
   "outputs": [
    {
     "data": {
      "text/plain": [
       "9765625"
      ]
     },
     "execution_count": 8,
     "metadata": {},
     "output_type": "execute_result"
    }
   ],
   "source": [
    "a**b"
   ]
  },
  {
   "cell_type": "code",
   "execution_count": 10,
   "id": "47b47971-8cfc-44aa-be09-8553ee497aa5",
   "metadata": {},
   "outputs": [
    {
     "data": {
      "text/plain": [
       "5"
      ]
     },
     "execution_count": 10,
     "metadata": {},
     "output_type": "execute_result"
    }
   ],
   "source": [
    "a%b         #To chechk whats the remainder"
   ]
  },
  {
   "cell_type": "markdown",
   "id": "14aad6e9-8ef6-4a71-b971-ac974b36d10d",
   "metadata": {},
   "source": [
    "### 2. Comparison Operators"
   ]
  },
  {
   "cell_type": "code",
   "execution_count": 11,
   "id": "a805ea79-77f0-477b-9a6e-5a5e25cb9e8d",
   "metadata": {},
   "outputs": [],
   "source": [
    "a = 45\n",
    "b = 20"
   ]
  },
  {
   "cell_type": "code",
   "execution_count": 14,
   "id": "5e1758d7-1aa7-4277-9bd0-2eab1e6f8135",
   "metadata": {},
   "outputs": [
    {
     "data": {
      "text/plain": [
       "True"
      ]
     },
     "execution_count": 14,
     "metadata": {},
     "output_type": "execute_result"
    }
   ],
   "source": [
    "a >= b"
   ]
  },
  {
   "cell_type": "code",
   "execution_count": 25,
   "id": "43d42b43-9c46-4d2a-b1c2-977215a20e78",
   "metadata": {},
   "outputs": [
    {
     "data": {
      "text/plain": [
       "True"
      ]
     },
     "execution_count": 25,
     "metadata": {},
     "output_type": "execute_result"
    }
   ],
   "source": [
    "a = b        #It means a's and b's values are going to same \n",
    "a == b       #If we know that they are same or not ?"
   ]
  },
  {
   "cell_type": "code",
   "execution_count": 24,
   "id": "5e0e0391-bc84-43b5-af58-e41b92d1c272",
   "metadata": {},
   "outputs": [],
   "source": [
    "a = 45"
   ]
  },
  {
   "cell_type": "raw",
   "id": "d6d33fda-49ce-4201-b777-417bf9dec8cb",
   "metadata": {},
   "source": [
    "a == b\n",
    "a != b\n",
    "a >= b\n",
    "a <= b"
   ]
  },
  {
   "cell_type": "markdown",
   "id": "8f4969f7-466b-4d3e-95b2-532123d6c8ba",
   "metadata": {},
   "source": [
    "### 3. Logical Operators"
   ]
  },
  {
   "cell_type": "raw",
   "id": "fcc59769-fae3-446f-bef5-787498210cf1",
   "metadata": {},
   "source": [
    "and \n",
    "or \n",
    "not "
   ]
  },
  {
   "cell_type": "code",
   "execution_count": 27,
   "id": "5455ddbc-3b3b-4c7c-b799-609b9ba97fe2",
   "metadata": {},
   "outputs": [],
   "source": [
    "a1 = True\n",
    "b1 = False "
   ]
  },
  {
   "cell_type": "code",
   "execution_count": 29,
   "id": "89cfad9f-c398-400a-92bf-9f9c6da8d838",
   "metadata": {},
   "outputs": [
    {
     "data": {
      "text/plain": [
       "False"
      ]
     },
     "execution_count": 29,
     "metadata": {},
     "output_type": "execute_result"
    }
   ],
   "source": [
    "not(a1)                 #It means its not an (a)"
   ]
  },
  {
   "cell_type": "code",
   "execution_count": 32,
   "id": "83083e1e-3178-41ab-83f3-64723385d410",
   "metadata": {},
   "outputs": [
    {
     "data": {
      "text/plain": [
       "True"
      ]
     },
     "execution_count": 32,
     "metadata": {},
     "output_type": "execute_result"
    }
   ],
   "source": [
    "a1 or b1                #Returns true if anyone is true"
   ]
  },
  {
   "cell_type": "code",
   "execution_count": 33,
   "id": "1eac1391-e617-4efd-82a9-ea6e203a34cc",
   "metadata": {},
   "outputs": [
    {
     "data": {
      "text/plain": [
       "False"
      ]
     },
     "execution_count": 33,
     "metadata": {},
     "output_type": "execute_result"
    }
   ],
   "source": [
    "a1 and b1              #both needed to be true"
   ]
  },
  {
   "cell_type": "markdown",
   "id": "0de1c194-3043-4db4-a426-2bc6f7110c47",
   "metadata": {},
   "source": [
    "### 4. Assignment Operators"
   ]
  },
  {
   "cell_type": "markdown",
   "id": "2d330f56-4cad-4f37-aa0e-dcadcf40b67f",
   "metadata": {},
   "source": [
    "=,\n",
    " +=, \n",
    " -=,\n",
    " *=,\n",
    " /="
   ]
  },
  {
   "cell_type": "code",
   "execution_count": 35,
   "id": "03d24f07-4afa-474e-bba3-c9a01de7b795",
   "metadata": {},
   "outputs": [
    {
     "data": {
      "text/plain": [
       "28"
      ]
     },
     "execution_count": 35,
     "metadata": {},
     "output_type": "execute_result"
    }
   ],
   "source": [
    "a += 4\n",
    "a"
   ]
  },
  {
   "cell_type": "code",
   "execution_count": 36,
   "id": "4c7c883f-7091-485e-9ee0-43c650a683a3",
   "metadata": {},
   "outputs": [
    {
     "data": {
      "text/plain": [
       "24"
      ]
     },
     "execution_count": 36,
     "metadata": {},
     "output_type": "execute_result"
    }
   ],
   "source": [
    "a -=4\n",
    "a"
   ]
  },
  {
   "cell_type": "code",
   "execution_count": 37,
   "id": "e2b1e22d-81a2-4b0a-84a2-41e073bddc48",
   "metadata": {},
   "outputs": [],
   "source": [
    "a =+ 5        #It means a = a+5     same for all other operators"
   ]
  },
  {
   "cell_type": "markdown",
   "id": "ee0a122d-06f6-4d11-83b8-be53e4e86e12",
   "metadata": {},
   "source": [
    "### 5. Membership & Identity Operators"
   ]
  },
  {
   "cell_type": "code",
   "execution_count": 45,
   "id": "e391831b-2201-4b54-9b35-f3573d2d90df",
   "metadata": {},
   "outputs": [
    {
     "data": {
      "text/plain": [
       "True"
      ]
     },
     "execution_count": 45,
     "metadata": {},
     "output_type": "execute_result"
    }
   ],
   "source": [
    "namess = [\"Farhan\", \"Zeeshan\"]\n",
    "\"Farhan\" in namess                               #If in list give true"
   ]
  },
  {
   "cell_type": "code",
   "execution_count": 46,
   "id": "c6c9920b-07d4-4a2b-bb8a-fe14692f43c0",
   "metadata": {},
   "outputs": [
    {
     "data": {
      "text/plain": [
       "False"
      ]
     },
     "execution_count": 46,
     "metadata": {},
     "output_type": "execute_result"
    }
   ],
   "source": [
    "\"Samiya\" in namess                              #Not in list gives false"
   ]
  },
  {
   "cell_type": "code",
   "execution_count": 47,
   "id": "8fb6466a-a177-4c1e-abdf-da27c2254da8",
   "metadata": {},
   "outputs": [],
   "source": [
    "v = 10\n",
    "t = 10 \n",
    "e = 15"
   ]
  },
  {
   "cell_type": "code",
   "execution_count": 48,
   "id": "437280dc-4c5f-4822-8c2f-a06c7846fe23",
   "metadata": {},
   "outputs": [
    {
     "data": {
      "text/plain": [
       "True"
      ]
     },
     "execution_count": 48,
     "metadata": {},
     "output_type": "execute_result"
    }
   ],
   "source": [
    "v is t                                        #Same value return true"
   ]
  },
  {
   "cell_type": "code",
   "execution_count": 49,
   "id": "e0db3ba8-638e-43fd-8fc9-c50f750748c1",
   "metadata": {},
   "outputs": [
    {
     "data": {
      "text/plain": [
       "False"
      ]
     },
     "execution_count": 49,
     "metadata": {},
     "output_type": "execute_result"
    }
   ],
   "source": [
    "v is e"
   ]
  },
  {
   "cell_type": "code",
   "execution_count": 50,
   "id": "94de4489-66ad-40cd-8653-06551316ba96",
   "metadata": {},
   "outputs": [
    {
     "data": {
      "text/plain": [
       "True"
      ]
     },
     "execution_count": 50,
     "metadata": {},
     "output_type": "execute_result"
    }
   ],
   "source": [
    "v is not e                                  #If not return Falsee"
   ]
  },
  {
   "cell_type": "code",
   "execution_count": null,
   "id": "f2bcc681-42ad-4468-b90e-a4302cf559a6",
   "metadata": {},
   "outputs": [],
   "source": []
  }
 ],
 "metadata": {
  "kernelspec": {
   "display_name": "Python 3 (ipykernel)",
   "language": "python",
   "name": "python3"
  },
  "language_info": {
   "codemirror_mode": {
    "name": "ipython",
    "version": 3
   },
   "file_extension": ".py",
   "mimetype": "text/x-python",
   "name": "python",
   "nbconvert_exporter": "python",
   "pygments_lexer": "ipython3",
   "version": "3.13.5"
  }
 },
 "nbformat": 4,
 "nbformat_minor": 5
}
