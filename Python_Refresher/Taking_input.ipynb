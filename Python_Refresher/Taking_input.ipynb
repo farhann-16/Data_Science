{
 "cells": [
  {
   "cell_type": "markdown",
   "id": "ad4d882e-09bd-445a-a45f-014f8d946f19",
   "metadata": {},
   "source": [
    "#  Taking input from the user"
   ]
  },
  {
   "cell_type": "code",
   "execution_count": 3,
   "id": "3550efe5-3166-4eed-8553-57b540185581",
   "metadata": {},
   "outputs": [
    {
     "name": "stdin",
     "output_type": "stream",
     "text": [
      "Enter your name: ff\n"
     ]
    }
   ],
   "source": [
    "name = input(\"Enter your name:\")"
   ]
  },
  {
   "cell_type": "code",
   "execution_count": 4,
   "id": "85cec6ba-f890-40eb-8900-4f4516da61e9",
   "metadata": {},
   "outputs": [
    {
     "name": "stdin",
     "output_type": "stream",
     "text": [
      "Enter value 5\n"
     ]
    }
   ],
   "source": [
    "a = input(\"Enter value\")"
   ]
  },
  {
   "cell_type": "code",
   "execution_count": 5,
   "id": "ee3c4bf9-42a5-4e5c-9796-c98a9a8f22bc",
   "metadata": {},
   "outputs": [
    {
     "name": "stdin",
     "output_type": "stream",
     "text": [
      "Enter value 10\n"
     ]
    }
   ],
   "source": [
    "b = input(\"Enter value\")"
   ]
  },
  {
   "cell_type": "code",
   "execution_count": 7,
   "id": "49e3f001-3a4d-49c7-83bd-8d76849f7e16",
   "metadata": {},
   "outputs": [
    {
     "data": {
      "text/plain": [
       "'510'"
      ]
     },
     "execution_count": 7,
     "metadata": {},
     "output_type": "execute_result"
    }
   ],
   "source": [
    "a + b                        #For now its string so its concatinat"
   ]
  },
  {
   "cell_type": "code",
   "execution_count": 10,
   "id": "c25de5c1-bdc6-4a25-8e14-74314ee82a83",
   "metadata": {},
   "outputs": [
    {
     "name": "stdin",
     "output_type": "stream",
     "text": [
      "Enter Value 100\n"
     ]
    }
   ],
   "source": [
    "aa = int(input(\"Enter Value\"))"
   ]
  },
  {
   "cell_type": "code",
   "execution_count": 11,
   "id": "a1f45712-72cb-43de-9df4-7e9d2fc73c3c",
   "metadata": {},
   "outputs": [
    {
     "name": "stdin",
     "output_type": "stream",
     "text": [
      "Enter Value 120\n"
     ]
    }
   ],
   "source": [
    "bb = int(input(\"Enter Value\")) "
   ]
  },
  {
   "cell_type": "code",
   "execution_count": 13,
   "id": "65e27350-fa00-4652-b24b-2fdfce5791a5",
   "metadata": {},
   "outputs": [
    {
     "data": {
      "text/plain": [
       "220"
      ]
     },
     "execution_count": 13,
     "metadata": {},
     "output_type": "execute_result"
    }
   ],
   "source": [
    "aa + bb                     #Now its integer"
   ]
  },
  {
   "cell_type": "code",
   "execution_count": 15,
   "id": "ad1820ae-5490-467a-9736-c265f78c2f24",
   "metadata": {},
   "outputs": [
    {
     "data": {
      "text/plain": [
       "15"
      ]
     },
     "execution_count": 15,
     "metadata": {},
     "output_type": "execute_result"
    }
   ],
   "source": [
    " int(a) + int(b)            #Typecasting string to integer"
   ]
  },
  {
   "cell_type": "code",
   "execution_count": null,
   "id": "591e164d-ff35-4230-9487-a929c9b978b9",
   "metadata": {},
   "outputs": [],
   "source": []
  }
 ],
 "metadata": {
  "kernelspec": {
   "display_name": "Python 3 (ipykernel)",
   "language": "python",
   "name": "python3"
  },
  "language_info": {
   "codemirror_mode": {
    "name": "ipython",
    "version": 3
   },
   "file_extension": ".py",
   "mimetype": "text/x-python",
   "name": "python",
   "nbconvert_exporter": "python",
   "pygments_lexer": "ipython3",
   "version": "3.13.5"
  }
 },
 "nbformat": 4,
 "nbformat_minor": 5
}
